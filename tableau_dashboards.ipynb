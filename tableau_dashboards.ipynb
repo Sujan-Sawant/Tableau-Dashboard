{
  "nbformat": 4,
  "nbformat_minor": 0,
  "metadata": {
    "colab": {
      "provenance": [],
      "toc_visible": true,
      "authorship_tag": "ABX9TyNXVz1v23iIwl9Olm/2h3n7",
      "include_colab_link": true
    },
    "kernelspec": {
      "name": "python3",
      "display_name": "Python 3"
    },
    "language_info": {
      "name": "python"
    }
  },
  "cells": [
    {
      "cell_type": "markdown",
      "metadata": {
        "id": "view-in-github",
        "colab_type": "text"
      },
      "source": [
        "<a href=\"https://colab.research.google.com/github/Sujan-Sawant/Tableau-Dashboard/blob/main/tableau_dashboards.ipynb\" target=\"_parent\"><img src=\"https://colab.research.google.com/assets/colab-badge.svg\" alt=\"Open In Colab\"/></a>"
      ]
    },
    {
      "cell_type": "markdown",
      "source": [
        "1.\tSuperstore Dashboard:\n",
        " - \thttps://public.tableau.com/app/profile/sujan.sawant/viz/SuperstoreDashboardS/Dashboard1\n",
        " -\tCreated a Tableau Public dashboard project for an AI and analytics company data, utilizing data cleaning initiatives and the creation of strategic fields in Tableau.\n",
        " -\tEnsured data integrity by implementing filters, refining data types, and enhancing geographic roles.\n",
        " - Developed key calculated fields for comprehensive business performance analysis.\n",
        " - Conducted in-depth analysis to identify customer loyalty program registrations and optimize store performance, empowering leading brands to drive measurable business impact and strategic decision-making\n",
        "\n",
        "2.\tAustralia's Wine Company Insight Dashboard:\n",
        " - https://public.tableau.com/app/profile/sujan.sawant/viz/AustraliasWineCompanyInsightDashboardS/Dashboard1\n",
        " - Breakdown of revenue distribution by sub-segment and region.\n",
        " - Analysis of revenue by sub-segment, providing insights into product performance.\n",
        " - Identification of top customers based on order quantity and revenue.\n",
        " - Visualization of revenue distribution by state, highlighting geographical sales trends.\n",
        "\n",
        "3.\tHR Insight Analysis Dashboard:\n",
        " - https://public.tableau.com/app/profile/sujan.sawant/viz/HrInsightAnalysisDashboardS/Dashboard1\n",
        " - Overview of the total number of employees.\n",
        " - Analysis of the number of active employees.\n",
        " - Breakdown of job titles within the organization.\n",
        " - Visualization of hiring trends over time.\n",
        " - Geographic distribution of employees by state.\n",
        " - Employee distribution based on specific locations.\n",
        " - Insight into age distribution among employees.\n",
        "\n",
        "4.\tNetflix Insight Dashboard:\n",
        " - https://public.tableau.com/app/profile/sujan.sawant/viz/NetflixInsightDashboardS/Dashboard1\n",
        " - Comprehensive dashboard providing insights into Netflix content diversity and audience preferences.\n",
        " - Categorization of Netflix titles by country.\n",
        " - Visualization of the number of movies by rating.\n",
        " - Analysis of the distribution of TV shows based on the number of seasons.\n",
        " - Insight into the distribution of titles by rating.\n",
        "\n",
        "\n",
        "\n",
        "\n",
        "\n",
        "5.\tSuperstore-Category Insight Dashboard:\n",
        " - https://public.tableau.com/app/profile/sujan.sawant/viz/Superstore-CategoryInsightDashboardS/Superstore-\n",
        " - Forecast analysis categorized by product category, aiding in future planning.\n",
        " - Detailed product analysis by sales, profit, and quantity, focusing on top performing items.\n",
        " - Examination of sub-categories within each category for deeper insights.\n",
        " - Setting targets for sub-segments to align with business objectives and strategies.\n",
        "\n",
        "\n"
      ],
      "metadata": {
        "id": "xGL5GA0cST5I"
      }
    },
    {
      "cell_type": "code",
      "execution_count": null,
      "metadata": {
        "id": "YJ6StEeYSTJW"
      },
      "outputs": [],
      "source": []
    }
  ]
}